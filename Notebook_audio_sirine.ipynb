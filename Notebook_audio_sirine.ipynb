{
 "cells": [
  {
   "cell_type": "code",
   "execution_count": 2,
   "id": "0048adc6",
   "metadata": {},
   "outputs": [],
   "source": [
    "# Import des packages nécessaires\n",
    "import numpy as np\n",
    "import matplotlib.pyplot as plt\n",
    "import sounddevice as sd\n",
    "import pickle\n",
    "import sqlite3\n",
    "import wave\n"
   ]
  },
  {
   "cell_type": "code",
   "execution_count": 3,
   "id": "d3f986db",
   "metadata": {},
   "outputs": [],
   "source": [
    "%matplotlib notebook"
   ]
  },
  {
   "cell_type": "code",
   "execution_count": 4,
   "id": "f1fb9e6c",
   "metadata": {},
   "outputs": [],
   "source": [
    "# Connect to the database (or create it if it doesn't exist)\n",
    "conn = sqlite3.connect('audio_db.db')\n"
   ]
  },
  {
   "cell_type": "code",
   "execution_count": 5,
   "id": "0645a579",
   "metadata": {},
   "outputs": [
    {
     "data": {
      "text/plain": [
       "<sqlite3.Cursor at 0x2be04525dc0>"
      ]
     },
     "execution_count": 5,
     "metadata": {},
     "output_type": "execute_result"
    }
   ],
   "source": [
    "# Create a table\n",
    "conn.execute('''CREATE TABLE IF NOT EXISTS AUDIO \n",
    "             (ID INT PRIMARY KEY     NOT NULL,\n",
    "             sig_sq             INT    NOT NULL,\n",
    "             sig_t              INT    NOT NULL,\n",
    "             sig_f              INT    NOT NULL,\n",
    "             sig_c              INT    NOT NULL);''')\n",
    "            \n"
   ]
  },
  {
   "cell_type": "code",
   "execution_count": 6,
   "id": "7359ad19",
   "metadata": {},
   "outputs": [
    {
     "data": {
      "text/plain": [
       "<sqlite3.Cursor at 0x2be04656500>"
      ]
     },
     "execution_count": 6,
     "metadata": {},
     "output_type": "execute_result"
    }
   ],
   "source": [
    "# Create a table\n",
    "conn.execute('''CREATE TABLE IF NOT EXISTS AUDIO_PARAM \n",
    "             (ID INT PRIMARY KEY     NOT NULL,\n",
    "                min_sig                  INT    NOT NULL,\n",
    "                max_sig                  INT     NOT NULL,\n",
    "                mean_sig                 INT     NOT NULL,\n",
    "                min_mean                 INT     NOT NULL,\n",
    "                max_mean                 INT     NOT NULL,\n",
    "                centroid                 INT     NOT NULL,\n",
    "                RMS_sig                  INT     NOT NULL,\n",
    "                std_sig                  INT     NOT NULL,\n",
    "                mean_skewness            INT     NOT NULL,\n",
    "                mean_kurtosis            INT     NOT NULL,\n",
    "                skewness                 INT     NOT NULL,\n",
    "                kurtosis                 INT     NOT NULL,\n",
    "                shannon                  INT     NOT NULL,\n",
    "                renyi                    INT     NOT NULL,\n",
    "                rate_attack              INT     NOT NULL,\n",
    "                rate_decay               INT     NOT NULL,\n",
    "                silence_ratio            INT     NOT NULL,\n",
    "                threshold_crossing_rate  INT     NOT NULL);''')\n",
    "            \n"
   ]
  },
  {
   "cell_type": "code",
   "execution_count": 7,
   "id": "24519c90",
   "metadata": {},
   "outputs": [],
   "source": [
    "\n",
    "with sqlite3.connect('audio_db.db') as con:\n",
    "    with open('audio.sql', 'w') as f:\n",
    "        for line in con.iterdump():\n",
    "            f.write('%s\\n' % line)"
   ]
  },
  {
   "cell_type": "code",
   "execution_count": 9,
   "id": "8c2ea413",
   "metadata": {},
   "outputs": [],
   "source": [
    "import numpy as np\n",
    "from scipy.io.wavfile import write\n",
    "\n",
    "def create_sin_wave(frequency, duration, filename):\n",
    "    # Sample rate (samples/second)\n",
    "    sample_rate = 44100\n",
    "    # Time vector (seconds)\n",
    "    t = np.linspace(0, duration, int(sample_rate * duration), endpoint=False)\n",
    "    # Signal\n",
    "    x = np.sin(2 * np.pi * frequency * t)\n",
    "    # Normalize to 16-bit range\n",
    "    x *= 32767 / np.max(np.abs(x))\n",
    "    # Convert to 16-bit data\n",
    "    x = x.astype(np.int16)\n",
    "    # Save as WAV file\n",
    "    write(filename, sample_rate, x)\n",
    "    print(f'{filename} created successfully')\n"
   ]
  },
  {
   "cell_type": "code",
   "execution_count": 12,
   "id": "ccc24b34",
   "metadata": {},
   "outputs": [
    {
     "name": "stdout",
     "output_type": "stream",
     "text": [
      "signal0.wav created successfully\n",
      "signal1.wav created successfully\n",
      "signal2.wav created successfully\n",
      "signal3.wav created successfully\n",
      "signal4.wav created successfully\n",
      "signal5.wav created successfully\n",
      "signal6.wav created successfully\n",
      "signal7.wav created successfully\n",
      "signal8.wav created successfully\n",
      "signal9.wav created successfully\n"
     ]
    }
   ],
   "source": [
    "\n",
    "for i in range(1,20):\n",
    "    filename = f\"signal{i}.wav\"\n",
    "    create_sin_wave(44100, 3, filename)"
   ]
  },
  {
   "cell_type": "code",
   "execution_count": 2,
   "id": "40b59d73",
   "metadata": {},
   "outputs": [],
   "source": [
    "# Import des packages nécessaires\n",
    "import numpy as np\n",
    "import matplotlib.pyplot as plt\n",
    "import sounddevice as sd\n",
    "import pickle\n",
    "import sqlite3\n",
    "import wave\n",
    "\n",
    "# Paramètres du signal\n",
    "times = 2  # secondes\n",
    "fe = 44100  # échantillons par seconde\n",
    "\n",
    "for i in range(1,30):\n",
    "    # Paramètres du signal\n",
    "    frequency = i * 100  # Hz\n",
    "    amplitude = 1\n",
    "    phase = 0  # radians\n",
    "\n",
    "    # Génération du signal\n",
    "    signal = []\n",
    "    for i in range(int(times * fe)):\n",
    "        t = i / fe\n",
    "        signal.append(amplitude * np.sin(2 * np.pi * frequency * t + phase))\n",
    "    \n",
    "    # Conversion de la liste en tableau numpy\n",
    "    signal = np.array(signal, dtype=np.float32)\n",
    "\n",
    "    # Enregistrement du signal en fichier audio\n",
    "    wav_file = wave.open(f\"signal_{frequency}\"+\".wav\", \"w\")\n",
    "    wav_file.setparams((1, 2, fe, 0, \"NONE\", \"not compressed\"))\n",
    "    wav_file.writeframes(signal)\n",
    "    wav_file.close()\n",
    "    # Puis on l'écoute\n",
    "    sd.play(signal, fe)\n",
    "\n"
   ]
  },
  {
   "cell_type": "code",
   "execution_count": 3,
   "id": "5e502bdd-e2a0-47bf-968c-f009091dd482",
   "metadata": {},
   "outputs": [],
   "source": [
    "import IPython.display as ipd\n",
    "\n",
    "for i in range(30):\n",
    "    # Génère un bruit blanc de 1 seconde\n",
    "    noise = np.random.randn(fe) \n",
    "    # Ouvre un fichier wave pour l'enregistrement\n",
    "    with wave.open(\"noise\" + str(i) +\".wav\", \"w\") as file:\n",
    "        file.setparams((1, 2, 44100, 0, \"NONE\", \"not compressed\"))\n",
    "        file.writeframes(noise)\n",
    "    # Joue le fichier audio\n",
    "    ipd.Audio(\"noise\" + str(i)+\".wav\" )"
   ]
  },
  {
   "cell_type": "code",
   "execution_count": 13,
   "id": "24c849e1",
   "metadata": {},
   "outputs": [],
   "source": []
  },
  {
   "cell_type": "code",
   "execution_count": null,
   "id": "75bd9eab",
   "metadata": {},
   "outputs": [],
   "source": []
  }
 ],
 "metadata": {
  "kernelspec": {
   "display_name": "Python 3 (ipykernel)",
   "language": "python",
   "name": "python3"
  },
  "language_info": {
   "codemirror_mode": {
    "name": "ipython",
    "version": 3
   },
   "file_extension": ".py",
   "mimetype": "text/x-python",
   "name": "python",
   "nbconvert_exporter": "python",
   "pygments_lexer": "ipython3",
   "version": "3.9.12"
  },
  "vscode": {
   "interpreter": {
    "hash": "cce956dd8b59511f520788cd9362dddc117670ac5ef39c9ede8ba85a43b854a0"
   }
  }
 },
 "nbformat": 4,
 "nbformat_minor": 5
}
