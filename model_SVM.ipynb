{
 "cells": [
  {
   "cell_type": "code",
   "execution_count": 11,
   "id": "e89cdd50",
   "metadata": {},
   "outputs": [
    {
     "name": "stdout",
     "output_type": "stream",
     "text": [
      "accuracy : 1.0\n"
     ]
    },
    {
     "name": "stderr",
     "output_type": "stream",
     "text": [
      "C:\\Users\\utilisateur\\anaconda3\\lib\\site-packages\\sklearn\\utils\\deprecation.py:87: FutureWarning: Function plot_confusion_matrix is deprecated; Function `plot_confusion_matrix` is deprecated in 1.0 and will be removed in 1.2. Use one of the class methods: ConfusionMatrixDisplay.from_predictions or ConfusionMatrixDisplay.from_estimator.\n",
      "  warnings.warn(msg, category=FutureWarning)\n"
     ]
    },
    {
     "data": {
      "image/png": "[encoded data removed]",
      "text/plain": [
       "<Figure size 360x360 with 2 Axes>"
      ]
     },
     "metadata": {
      "needs_background": "light"
     },
     "output_type": "display_data"
    }
   ],
   "source": [
    "from sklearn import preprocessing\n",
    "from sklearn import svm\n",
    "import pickle\n",
    "from joblib import dump\n",
    "from features_functions import compute_features\n",
    "from sklearn.model_selection import train_test_split\n",
    "\n",
    "import os\n",
    "from scipy.io.wavfile import read\n",
    "import numpy as np\n",
    "import matplotlib.pyplot as plt\n",
    "from sklearn.metrics import confusion_matrix\n",
    "from sklearn.metrics import plot_confusion_matrix\n",
    "from sklearn.metrics import accuracy_score\n",
    "\n",
    "\n",
    "nbr_fichiers = 58\n",
    "learningFeatures = np.empty((nbr_fichiers, 71))\n",
    "folder_path = r\"C:\\Users\\utilisateur\\brief_18_audio-main\\notebook_audio\\Data\"\n",
    "count_files = 0\n",
    "\n",
    "learningLabels = []\n",
    "\n",
    "\n",
    "for k, filename in enumerate(os.listdir(folder_path)):\n",
    "    # vérifier si le fichier est un fichier .wav\n",
    "    if filename.endswith(\".wav\"):\n",
    "        # lire le fichier audio\n",
    "        sr, input_sig = read(os.path.join(folder_path, filename))\n",
    "        input_sig = input_sig.astype(np.float32)/32768\n",
    "\n",
    "        # Compute the signal in three domains\n",
    "        sig_sq = input_sig**2\n",
    "        sig_t = input_sig / np.sqrt(sig_sq.sum())\n",
    "        sig_f = np.absolute(np.fft.fft(sig_t))\n",
    "        sig_c = np.absolute(np.fft.fft(sig_f))\n",
    "\n",
    "        # Compute the features and store them\n",
    "        features_list = []\n",
    "        N_feat, features_list = compute_features(sig_t, sig_f[:sig_t.shape[0]//2], sig_c[:sig_t.shape[0]//2])\n",
    "        features_vector = np.array(features_list)[np.newaxis,:]\n",
    "        \n",
    "         # Store the obtained features in a np.arrays\n",
    "        learningFeatures[k,:] = features_vector\n",
    "\n",
    "        # Store the labels\n",
    "        if count_files < nbr_fichiers//2:\n",
    "            learningLabels.append(0)\n",
    "        else:\n",
    "            learningLabels.append(1)   \n",
    "        count_files+=1\n",
    "\n",
    "        \n",
    "\n",
    "X_train, X_test, y_train, y_test = train_test_split(learningFeatures, learningLabels, test_size=0.30, random_state=10)\n",
    "\n",
    "# Standardize the labels\n",
    "# labelEncoder = preprocessing.LabelEncoder().fit(y_train)\n",
    "# learningLabelsStd = labelEncoder.transform(y_train)\n",
    "# testLabelsStd = labelEncoder.transform(y_test)\n",
    "\n",
    "# Learn the model\n",
    "model = svm.SVC(C=10, kernel='linear', class_weight=None, probability=False)\n",
    "scaler = preprocessing.StandardScaler(with_mean=True).fit(X_train)\n",
    "learningFeatures_scaled = scaler.transform(X_train)\n",
    "\n",
    "model.fit(learningFeatures_scaled, y_train)\n",
    "\n",
    "# Test the model\n",
    "testFeatures_scaled = scaler.transform(X_test)\n",
    "\n",
    "y_pred = model.predict(testFeatures_scaled)\n",
    "print(f\"accuracy : {accuracy_score(y_test, y_pred)}\")\n",
    "\n",
    "# Matrix confusion\n",
    "fig, ax = plt.subplots(figsize=(5, 5))\n",
    "plot_confusion_matrix(model, testFeatures_scaled, y_test, ax=ax) \n",
    "plt.show()\n",
    "\n",
    "fig.savefig('confusion_matrix.png', dpi=300, bbox_inches='tight')\n",
    "\n",
    "# Export the scaler and model on disk\n",
    "# dump(scaler, \"SCALER\")\n",
    "# dump(model, \"SVM_MODEL\")"
   ]
  },
  {
   "cell_type": "code",
   "execution_count": 68,
   "id": "b4b04d36",
   "metadata": {
    "scrolled": true
   },
   "outputs": [
    {
     "data": {
      "text/plain": [
       "(58, 71)"
      ]
     },
     "execution_count": 68,
     "metadata": {},
     "output_type": "execute_result"
    }
   ],
   "source": [
    "learningFeatures.shape"
   ]
  },
  {
   "cell_type": "code",
   "execution_count": null,
   "id": "45b3126b",
   "metadata": {},
   "outputs": [],
   "source": []
  }
 ],
 "metadata": {
  "kernelspec": {
   "display_name": "Python 3 (ipykernel)",
   "language": "python",
   "name": "python3"
  },
  "language_info": {
   "codemirror_mode": {
    "name": "ipython",
    "version": 3
   },
   "file_extension": ".py",
   "mimetype": "text/x-python",
   "name": "python",
   "nbconvert_exporter": "python",
   "pygments_lexer": "ipython3",
   "version": "3.9.12"
  }
 },
 "nbformat": 4,
 "nbformat_minor": 5
}
